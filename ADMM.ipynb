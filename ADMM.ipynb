{
 "cells": [
  {
   "cell_type": "code",
   "execution_count": 18,
   "id": "fa4f0469",
   "metadata": {},
   "outputs": [
    {
     "name": "stdout",
     "output_type": "stream",
     "text": [
      "Solution: [0.03759345 0.95868043 1.14843954 0.86451881 0.13054468]\n"
     ]
    }
   ],
   "source": [
    "import numpy as np\n",
    "from scipy.linalg import svd\n",
    "\n",
    "def soft_thresholding(x, threshold):\n",
    "    return np.sign(x) * np.maximum(np.abs(x) - threshold, 0)\n",
    "\n",
    "def admm_basis_pursuit(A, b, rho, max_iter=100, tol=1):\n",
    "    m, n = A.shape\n",
    "    x = np.zeros(n)\n",
    "    z = np.zeros(n)\n",
    "    u = np.zeros(n)\n",
    "    Atb = A.T @ b\n",
    "    L = svd(A, full_matrices=False)[1].max()  # Lipschitz constant\n",
    "\n",
    "    for _ in range(max_iter):\n",
    "        x_prev = x.copy()\n",
    "\n",
    "        # Update x\n",
    "        q = Atb + rho * (z - u)\n",
    "        if m >= n:\n",
    "            x = np.linalg.solve(A.T @ A + rho * np.eye(n), q)\n",
    "        else:\n",
    "            x = q - A.T @ np.linalg.solve(A @ A.T + rho * np.eye(m), A @ q)\n",
    "\n",
    "        # Update z\n",
    "        z = soft_thresholding(x + u, 1 / rho)\n",
    "\n",
    "        # Update dual variable u\n",
    "        u = u + x - z\n",
    "\n",
    "        # Check convergence\n",
    "        if np.linalg.norm(x - x_prev) / np.linalg.norm(x) < tol:\n",
    "            break\n",
    "\n",
    "    return x\n",
    "\n",
    "# Example usage\n",
    "A = np.array([[1, 0, 1, 0, 2], \n",
    "              [0, 1, 0, 1, 1],\n",
    "              [2, 0, 3, 0, 1],\n",
    "              [0, 2, 1, 0, 0],\n",
    "              [1, 0, 2, 1, 1]])\n",
    "b = np.array([1, 2, 3, 4, 5])\n",
    "\n",
    "rho = 1\n",
    "tol = 1\n",
    "solution = admm_basis_pursuit(A, b, rho, tol=tol)\n",
    "\n",
    "print(\"Solution:\", solution)\n"
   ]
  },
  {
   "cell_type": "code",
   "execution_count": 16,
   "id": "f06922aa",
   "metadata": {},
   "outputs": [
    {
     "name": "stdout",
     "output_type": "stream",
     "text": [
      "Solution: [6.60835226e+28 7.52512761e+28 8.44190296e+28]\n"
     ]
    }
   ],
   "source": [
    "import numpy as np\n",
    "from scipy.linalg import svd\n",
    "\n",
    "def soft_thresholding(x, threshold):\n",
    "    return np.sign(x) * np.maximum(np.abs(x) - threshold, 0)\n",
    "\n",
    "def admm_lasso(X, y, alpha, rho, max_iter=100, tol=1e-4):\n",
    "    m, n = X.shape\n",
    "    A = np.linalg.inv(X.T @ X + rho * np.eye(n))\n",
    "    Xty = X.T @ y\n",
    "\n",
    "    z = np.zeros(n)\n",
    "    u = np.zeros(n)\n",
    "\n",
    "    for _ in range(max_iter):\n",
    "        z_prev = z.copy()\n",
    "\n",
    "        # Update z\n",
    "        q = Xty + rho * (z - u)\n",
    "        z = A @ q\n",
    "\n",
    "        # Soft thresholding\n",
    "        z = soft_thresholding(z, alpha / rho)\n",
    "\n",
    "        # Update dual variable u\n",
    "        u = u + z - q\n",
    "\n",
    "        # Check convergence\n",
    "        if np.linalg.norm(z - z_prev) / np.linalg.norm(z) < tol:\n",
    "            break\n",
    "\n",
    "    return z\n",
    "\n",
    "# Example usage\n",
    "X = np.array([[1, 2, 3], [4, 5, 6], [7, 8, 9], [10, 11, 12]])\n",
    "y = np.array([1, 2, 3, 4])\n",
    "alpha = 0.1\n",
    "rho = 1.0\n",
    "\n",
    "solution = admm_lasso(X, y, alpha, rho)\n",
    "\n",
    "print(\"Solution:\", solution)\n"
   ]
  }
 ],
 "metadata": {
  "kernelspec": {
   "display_name": "Python 3 (ipykernel)",
   "language": "python",
   "name": "python3"
  },
  "language_info": {
   "codemirror_mode": {
    "name": "ipython",
    "version": 3
   },
   "file_extension": ".py",
   "mimetype": "text/x-python",
   "name": "python",
   "nbconvert_exporter": "python",
   "pygments_lexer": "ipython3",
   "version": "3.9.12"
  }
 },
 "nbformat": 4,
 "nbformat_minor": 5
}
